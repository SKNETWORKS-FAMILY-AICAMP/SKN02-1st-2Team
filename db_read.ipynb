{
 "cells": [
  {
   "cell_type": "code",
   "execution_count": null,
   "metadata": {},
   "outputs": [],
   "source": [
    "import pymysql\n",
    "\n",
    "conn = pymysql.connect(host=\"127.0.0.1\", user=\"root\", password=\"1234\", charset=\"utf-8\")\n",
    "cur = conn.cursor()\n",
    "\n",
    "cur.execute(\"SELECT * FROM \")"
   ]
  },
  {
   "cell_type": "code",
   "execution_count": 7,
   "metadata": {},
   "outputs": [
    {
     "name": "stdout",
     "output_type": "stream",
     "text": [
      " 강남구 <class 'float'>\n",
      " 강동구 <class 'float'>\n",
      " 강북구 <class 'float'>\n",
      " 강서구 <class 'float'>\n",
      " 관악구 <class 'float'>\n",
      " 광진구 <class 'float'>\n",
      " 구로구 <class 'float'>\n",
      " 금천구 <class 'float'>\n",
      " 도봉구 <class 'float'>\n",
      " 동대문구 <class 'float'>\n",
      " 동작구 <class 'float'>\n",
      " 마포구 <class 'float'>\n",
      " 서대문구 <class 'float'>\n",
      " 서초구 <class 'float'>\n",
      " 성동구 <class 'float'>\n",
      " 송파구 <class 'float'>\n",
      " 양천구 <class 'float'>\n",
      " 영등포구 <class 'float'>\n",
      " 용산구 <class 'float'>\n",
      " 종로구 <class 'float'>\n",
      " 중구 <class 'float'>\n",
      " 중랑구 <class 'float'>\n"
     ]
    }
   ],
   "source": [
    "import csvRead\n",
    "import pymysql\n",
    "\n",
    "def insert_rechargers(input_rechargers):\n",
    "    rechargers = input_rechargers\n",
    "\n",
    "    conn = pymysql.connect(host=\"127.0.0.1\", user=\"root\", password=\"1234\", charset=\"utf8\")\n",
    "    conn.select_db(\"carDB\")\n",
    "    cur = conn.cursor()\n",
    "\n",
    "\n",
    "    # 데이터프레임의 각 행을 반복하며 SQL INSERT 문 실행\n",
    "    for row in rechargers.itertuples():\n",
    "        sql = \"INSERT INTO chargingamount (addr, charging_amount) VALUES (%s, %s)\"\n",
    "        cur.execute(sql, (row[1], row[2]))\n",
    "\n",
    "    # 변경사항 저장\n",
    "    conn.commit()\n",
    "\n",
    "    # 연결 종료\n",
    "    cur.close()\n",
    "    conn.close()"
   ]
  }
 ],
 "metadata": {
  "kernelspec": {
   "display_name": "proj1",
   "language": "python",
   "name": "python3"
  },
  "language_info": {
   "codemirror_mode": {
    "name": "ipython",
    "version": 3
   },
   "file_extension": ".py",
   "mimetype": "text/x-python",
   "name": "python",
   "nbconvert_exporter": "python",
   "pygments_lexer": "ipython3",
   "version": "3.7.12"
  }
 },
 "nbformat": 4,
 "nbformat_minor": 2
}
